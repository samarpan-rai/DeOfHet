{
 "cells": [
  {
   "cell_type": "code",
   "execution_count": null,
   "metadata": {},
   "outputs": [],
   "source": [
    "import pandas as pd\n",
    "from pprint import pprint\n",
    "import numpy as np\n",
    "from sklearn.manifold import TSNE\n",
    "import matplotlib.pyplot as plt\n",
    "import plotly.express as px\n",
    "import re\n",
    "from spacy import displacy\n",
    "from spacy.symbols import NOUN, DET, ADJ\n",
    "from matplotlib.pyplot import subplots\n"
   ]
  },
  {
   "cell_type": "markdown",
   "metadata": {},
   "source": [
    "### Draw scatter plot"
   ]
  },
  {
   "cell_type": "code",
   "execution_count": null,
   "metadata": {},
   "outputs": [],
   "source": [
    "df_processed = pd.read_pickle('./data/dumps/woorden_met_hetofde_tsne_2d_perplexity_100.pickle')\n",
    "df_only_de_en_het = df_processed[df_processed.det.isin(['de','het'])]\n",
    "\n",
    "\n",
    "fig = px.scatter(df_only_de_en_het, x='2d_tsnse_x',\n",
    "                 y='2d_tsnse_y', hover_data={'2d_tsnse_x':False, 'woord':True, 'det' : False, '2d_tsnse_y':False}, color='det',\n",
    "                 width=1500, height=1000)\n",
    "fig.update_layout(\n",
    "    \n",
    "        \n",
    "    title={\n",
    "        'text': \"TSNE projection of the words\",\n",
    "        'xanchor': 'center',\n",
    "         'x':0.5,\n",
    "        'yanchor': 'top'\n",
    "    },\n",
    "    legend_title_text=\"De = red; Het = purple\",\n",
    "    xaxis_title=\"1st component\",\n",
    "    yaxis_title=\"2nd component\",\n",
    "    font=dict(\n",
    "        family=\"Courier New, monospace\",\n",
    "        size=18,\n",
    "        color=\"#7f7f7f\"\n",
    "    )\n",
    ")\n",
    "\n",
    "# fig.update_traces(hovertemplate='{name}') # \n",
    "#fig.write_html(\"../samarpan-rai.github.io/_includes/2d_tsne_woorden_distributie.html\",config = {'responsive': True})\n",
    "fig.show()"
   ]
  },
  {
   "cell_type": "markdown",
   "metadata": {},
   "source": [
    "## Extract some meaningful rules"
   ]
  },
  {
   "cell_type": "markdown",
   "metadata": {},
   "source": [
    "### Seems like if the word ends with -sme then it is always het. Lets verify that."
   ]
  },
  {
   "cell_type": "code",
   "execution_count": null,
   "metadata": {},
   "outputs": [],
   "source": [
    "mask = df_processed.woord.apply(lambda w : 'sme' in w[-3:])\n",
    "ending_with_sme = df_processed[mask]"
   ]
  },
  {
   "cell_type": "code",
   "execution_count": null,
   "metadata": {},
   "outputs": [],
   "source": [
    "ending_with_sme['det'].value_counts()"
   ]
  },
  {
   "cell_type": "markdown",
   "metadata": {},
   "source": [
    "Seems like one of them is not correct. Is that really so or was it a typo?"
   ]
  },
  {
   "cell_type": "code",
   "execution_count": null,
   "metadata": {},
   "outputs": [],
   "source": [
    "ending_with_sme.query('det == \"de\"')"
   ]
  },
  {
   "cell_type": "code",
   "execution_count": null,
   "metadata": {},
   "outputs": [],
   "source": [
    "ending_with_sme.query('det == \"het\"')"
   ]
  },
  {
   "cell_type": "markdown",
   "metadata": {},
   "source": [
    "### Seems like if the word ends with -huis then it is always het. Lets verify that."
   ]
  },
  {
   "cell_type": "code",
   "execution_count": null,
   "metadata": {},
   "outputs": [],
   "source": [
    "mask = df_processed.woord.apply(lambda w : 'huis' in w[-4:])\n",
    "ending_with_huis = df_processed[mask]"
   ]
  },
  {
   "cell_type": "code",
   "execution_count": null,
   "metadata": {},
   "outputs": [],
   "source": [
    "ending_with_huis['det'].value_counts()"
   ]
  },
  {
   "cell_type": "code",
   "execution_count": null,
   "metadata": {},
   "outputs": [],
   "source": [
    "ending_with_huis.query('det == \"het\"')"
   ]
  },
  {
   "cell_type": "markdown",
   "metadata": {},
   "source": [
    "## Compound word ending with het word should always be het"
   ]
  },
  {
   "cell_type": "code",
   "execution_count": null,
   "metadata": {},
   "outputs": [],
   "source": [
    "# compoundwords_ending_with_het_word = []\n",
    "# # EDataFramect all het words and find its corresponding set of compound words ending with it\n",
    "# het_words =df_processed.query('det==\"het\"') \n",
    "# print(f\"Found {het_words.shape[0]} het words \")\n",
    "# # For each word in that list, find the corresponding compoun word\n",
    "# het_word_vs_compound_word_result = []\n",
    "# het_word_list = het_words.woord.tolist()\n",
    "\n",
    "# for woord in het_word_list:\n",
    "    \n",
    "#     # The word must be at least have two characters\n",
    "#     if len(woord) > 1: \n",
    "#         # Make sure that the word being compared is not itself. \n",
    "#         mask = df_processed.woord.apply(lambda w : woord in w if (woord != w) else False )\n",
    "#         ending_with_het_word = df_processed[mask]\n",
    "\n",
    "#         result_obj = {\n",
    "#             'woord' : woord,\n",
    "#             'nr_compound_words_found' : ending_with_het_word.shape[0],\n",
    "#             'de_het_distribution' : ending_with_het_word.det.value_counts().to_dict()\n",
    "#         }\n",
    "\n",
    "#         het_word_vs_compound_word_result.append(result_obj)\n",
    "    "
   ]
  },
  {
   "cell_type": "code",
   "execution_count": null,
   "metadata": {},
   "outputs": [],
   "source": [
    "compoundwords_ending_with_het_word = []\n",
    "# EDataFramect all het words and find its corresponding set of compound words ending with it\n",
    "het_words =df_processed.query('det==\"het\"') \n",
    "print(f\"Found {het_words.shape[0]} het words \")\n",
    "# For each word in that list, find the corresponding compoun word\n",
    "het_word_vs_compound_word_result = []\n",
    "het_word_list = het_words.woord.tolist()\n",
    "\n",
    "for woord in het_word_list:\n",
    "    \n",
    "    # The word must be at least have two characters\n",
    "    if len(woord) > 1: \n",
    "        # Make sure that the word being compared is not itself. \n",
    "        all_other_words = het_words.woord[df_processed.woord!=woord]\n",
    "        # Add my word to the end of all the other words if it doesn't already end with it \n",
    "        theoretical_compound_words = all_other_words.apply(lambda w : w+woord if (w[-len(woord):]!=woord) else woord )\n",
    "#         print(woord)\n",
    "#         print(theoretical_compound_words)\n",
    "        # Find if those theoretical words exists in my corpus\n",
    "        ending_with_het_word = df_processed[df_processed.woord.isin(theoretical_compound_words)]\n",
    "        \n",
    "        \n",
    "        result_obj = {\n",
    "            'woord' : woord,\n",
    "            'nr_compound_words_found' : ending_with_het_word.shape[0],\n",
    "            'de_het_distribution' : ending_with_het_word.det.value_counts().to_dict()\n",
    "        }\n",
    "\n",
    "        het_word_vs_compound_word_result.append(result_obj)\n",
    "    "
   ]
  },
  {
   "cell_type": "code",
   "execution_count": null,
   "metadata": {},
   "outputs": [],
   "source": [
    "df_compoundwords_ending_with_het_word = pd.DataFrame.from_dict(het_word_vs_compound_word_result)"
   ]
  },
  {
   "cell_type": "code",
   "execution_count": null,
   "metadata": {},
   "outputs": [],
   "source": [
    "df_compoundwords_ending_with_het_word.drop_duplicates(subset='woord',inplace=True)"
   ]
  },
  {
   "cell_type": "code",
   "execution_count": null,
   "metadata": {},
   "outputs": [],
   "source": [
    "df_compoundwords_ending_with_het_word.shape"
   ]
  },
  {
   "cell_type": "code",
   "execution_count": null,
   "metadata": {},
   "outputs": [],
   "source": [
    "df_compoundwords_ending_with_het_word['nr_het_words'] = df_compoundwords_ending_with_het_word.de_het_distribution.apply(lambda x : x['het'] if ('het' in x) else 0 )\n",
    "df_compoundwords_ending_with_het_word['nr_de_words'] = df_compoundwords_ending_with_het_word.de_het_distribution.apply(lambda x : x['de']   if ('de' in x) else 0 )\n",
    "df_compoundwords_ending_with_het_word['distribution_of_het'] =  df_compoundwords_ending_with_het_word['nr_het_words'] / (df_compoundwords_ending_with_het_word['nr_het_words'] + df_compoundwords_ending_with_het_word['nr_de_words'])\n",
    "df_compoundwords_ending_with_het_word['distribution_of_de'] =  df_compoundwords_ending_with_het_word['nr_de_words'] / (df_compoundwords_ending_with_het_word['nr_het_words'] + df_compoundwords_ending_with_het_word['nr_de_words'])"
   ]
  },
  {
   "cell_type": "code",
   "execution_count": null,
   "metadata": {},
   "outputs": [],
   "source": [
    "df_compoundwords_ending_with_het_word_not_comparing_them_selves = df_compoundwords_ending_with_het_word.query('nr_het_words > 1')"
   ]
  },
  {
   "cell_type": "code",
   "execution_count": null,
   "metadata": {},
   "outputs": [],
   "source": [
    "df_compoundwords_ending_with_het_word_not_comparing_them_selves.shape"
   ]
  },
  {
   "cell_type": "code",
   "execution_count": null,
   "metadata": {},
   "outputs": [],
   "source": [
    "most_het_words_with_many_het_compound_word = df_compoundwords_ending_with_het_word_not_comparing_them_selves.sort_values(by='nr_het_words',ascending=False).head(10)\n",
    "most_het_words_with_many_het_compound_word.head()"
   ]
  },
  {
   "cell_type": "code",
   "execution_count": null,
   "metadata": {},
   "outputs": [],
   "source": [
    "fig, ax = subplots()\n",
    "most_het_words_with_many_het_compound_word[['woord','nr_het_words','nr_de_words']].\\\n",
    "    plot.\\\n",
    "    barh(x='woord',\n",
    "         title='Most compound het words produced per het word', ax=ax, figsize=(20,10))\n",
    "ax.invert_yaxis()\n",
    "ax.legend([\"Number of Het words\", \"Number of De words\"]);\n",
    "fig.savefig('../samarpan-rai.github.io/assets/img/most_compound_het_words_produced_per_het_word.png')"
   ]
  },
  {
   "cell_type": "markdown",
   "metadata": {},
   "source": [
    "####  Question : On average, what percentage of compound word ending with het word are also het?"
   ]
  },
  {
   "cell_type": "code",
   "execution_count": null,
   "metadata": {},
   "outputs": [],
   "source": [
    "percentage = df_compoundwords_ending_with_het_word_not_comparing_them_selves.distribution_of_het.mean()"
   ]
  },
  {
   "cell_type": "code",
   "execution_count": null,
   "metadata": {},
   "outputs": [],
   "source": [
    "print(f\"On average {(percentage*100)}% of het word's compound word are also het word\")"
   ]
  },
  {
   "cell_type": "markdown",
   "metadata": {},
   "source": [
    "## What about compound word ending with de word ? Are they also always de?"
   ]
  },
  {
   "cell_type": "code",
   "execution_count": null,
   "metadata": {},
   "outputs": [],
   "source": [
    "# EDataFramect all het words and find its corresponding set of compound words ending with it\n",
    "de_words =df_processed.query('det==\"de\"') \n",
    "print(f\"Found {de_words.shape[0]} de words \")\n",
    "# For each word in that list, find the corresponding compoun word\n",
    "de_word_vs_compound_word_result = []\n",
    "de_word_list = de_words.woord.tolist()\n",
    "\n",
    "for woord in de_word_list:\n",
    "    \n",
    "    # The word must be at least have two characters\n",
    "    if len(woord) > 1: \n",
    "        # Make sure that the word being compared is not itself. \n",
    "        all_other_words = de_words.woord[df_processed.woord!=woord]\n",
    "        # Add my word to the end of all the other words if it doesn't already end with it \n",
    "        theoretical_compound_words = all_other_words.apply(lambda w : w+woord if (w[-len(woord):]!=woord) else \"\" )\n",
    "#         print(woord)\n",
    "#         print(theoretical_compound_words)\n",
    "        # Find if those theoretical words exists in my corpus\n",
    "        ending_with_de_word = df_processed[df_processed.woord.isin(theoretical_compound_words)]\n",
    "        \n",
    "        \n",
    "        result_obj = {\n",
    "            'woord' : woord,\n",
    "            'nr_compound_words_found' : ending_with_de_word.shape[0],\n",
    "            'de_het_distribution' : ending_with_de_word.det.value_counts().to_dict()\n",
    "        }\n",
    "\n",
    "        de_word_vs_compound_word_result.append(result_obj)\n",
    "    "
   ]
  },
  {
   "cell_type": "code",
   "execution_count": null,
   "metadata": {},
   "outputs": [],
   "source": [
    "df_compoundwords_ending_with_de_word = pd.DataFrame.from_dict(de_word_vs_compound_word_result)"
   ]
  },
  {
   "cell_type": "code",
   "execution_count": null,
   "metadata": {},
   "outputs": [],
   "source": [
    "df_compoundwords_ending_with_de_word.drop_duplicates(subset='woord',inplace=True)"
   ]
  },
  {
   "cell_type": "code",
   "execution_count": null,
   "metadata": {},
   "outputs": [],
   "source": [
    "df_compoundwords_ending_with_de_word.shape"
   ]
  },
  {
   "cell_type": "code",
   "execution_count": null,
   "metadata": {},
   "outputs": [],
   "source": [
    "df_compoundwords_ending_with_de_word.head()"
   ]
  },
  {
   "cell_type": "code",
   "execution_count": null,
   "metadata": {},
   "outputs": [],
   "source": [
    "df_compoundwords_ending_with_de_word['nr_het_words'] = df_compoundwords_ending_with_de_word.de_het_distribution.apply(lambda x : x['het'] if ('het' in x) else 0 )\n",
    "df_compoundwords_ending_with_de_word['nr_de_words'] = df_compoundwords_ending_with_de_word.de_het_distribution.apply(lambda x : x['de']   if ('de' in x) else 0 )\n",
    "df_compoundwords_ending_with_de_word['distribution_of_het'] =  df_compoundwords_ending_with_de_word['nr_het_words'] / (df_compoundwords_ending_with_de_word['nr_het_words'] + df_compoundwords_ending_with_de_word['nr_de_words'])\n",
    "df_compoundwords_ending_with_de_word['distribution_of_de'] =  df_compoundwords_ending_with_de_word['nr_de_words'] / (df_compoundwords_ending_with_de_word['nr_het_words'] + df_compoundwords_ending_with_de_word['nr_de_words'])"
   ]
  },
  {
   "cell_type": "code",
   "execution_count": null,
   "metadata": {},
   "outputs": [],
   "source": [
    "df_compoundwords_ending_with_de_word_not_comparing_them_selves = df_compoundwords_ending_with_de_word.query('nr_de_words > 1')"
   ]
  },
  {
   "cell_type": "code",
   "execution_count": null,
   "metadata": {},
   "outputs": [],
   "source": [
    "df_compoundwords_ending_with_de_word_not_comparing_them_selves.shape"
   ]
  },
  {
   "cell_type": "code",
   "execution_count": null,
   "metadata": {},
   "outputs": [],
   "source": [
    "most_de_words_with_many_de_compound_word = df_compoundwords_ending_with_de_word_not_comparing_them_selves.sort_values(by='nr_de_words',ascending=False).head(10)\n",
    "most_de_words_with_many_de_compound_word.head()"
   ]
  },
  {
   "cell_type": "code",
   "execution_count": null,
   "metadata": {},
   "outputs": [],
   "source": [
    "fig, ax = subplots()\n",
    "most_de_words_with_many_de_compound_word[['woord','nr_het_words','nr_de_words']].\\\n",
    "    plot.\\\n",
    "    barh(x='woord',\n",
    "         title='Most compound de words produced per de word', ax=ax, figsize=(20,10))\n",
    "ax.invert_yaxis()\n",
    "ax.legend([\"Number of Het words\", \"Number of De words\"]);\n",
    "fig.savefig('../samarpan-rai.github.io/assets/img/most_compound_de_words_produced_per_de_word.png')"
   ]
  },
  {
   "cell_type": "code",
   "execution_count": null,
   "metadata": {},
   "outputs": [],
   "source": [
    "suffix='weg'\n",
    "mask = df_processed.woord.apply(lambda w : suffix in w[-len(suffix):])\n",
    "ending_with_suffix = df_processed[mask]"
   ]
  },
  {
   "cell_type": "markdown",
   "metadata": {},
   "source": [
    "####  Question : On average, what percentage of compound word ending with het word are also het?"
   ]
  },
  {
   "cell_type": "code",
   "execution_count": null,
   "metadata": {},
   "outputs": [],
   "source": [
    "percentage = df_compoundwords_ending_with_de_word_not_comparing_them_selves.distribution_of_de.mean()"
   ]
  },
  {
   "cell_type": "code",
   "execution_count": null,
   "metadata": {},
   "outputs": [],
   "source": [
    "print(f\"On average {(percentage*100)}% of de word's compound word are also de word\")"
   ]
  },
  {
   "cell_type": "markdown",
   "metadata": {},
   "source": [
    "###  Find words ending with 'bied' that are de"
   ]
  },
  {
   "cell_type": "code",
   "execution_count": null,
   "metadata": {},
   "outputs": [],
   "source": [
    "suffix='gebied'\n",
    "mask = df_processed.woord.apply(lambda w : suffix in w[-len(suffix):])\n",
    "ending_with_bied = df_processed[mask]"
   ]
  },
  {
   "cell_type": "code",
   "execution_count": null,
   "metadata": {},
   "outputs": [],
   "source": [
    "ending_with_bied"
   ]
  },
  {
   "cell_type": "code",
   "execution_count": null,
   "metadata": {},
   "outputs": [],
   "source": [
    "ending_with_bied.query('det == \"de\"')"
   ]
  },
  {
   "cell_type": "code",
   "execution_count": null,
   "metadata": {},
   "outputs": [],
   "source": []
  },
  {
   "cell_type": "markdown",
   "metadata": {},
   "source": [
    "###  Find words ending with 'gen' that are de"
   ]
  },
  {
   "cell_type": "code",
   "execution_count": null,
   "metadata": {},
   "outputs": [],
   "source": [
    "suffix='gen'\n",
    "mask = df_processed.woord.apply(lambda w : suffix in w[-len(suffix):])\n",
    "ending_with_suffix = df_processed[mask]"
   ]
  },
  {
   "cell_type": "code",
   "execution_count": null,
   "metadata": {},
   "outputs": [],
   "source": [
    "ending_with_suffix.head()"
   ]
  },
  {
   "cell_type": "markdown",
   "metadata": {},
   "source": [
    "###  Find words ending with 'jes' that are het"
   ]
  },
  {
   "cell_type": "code",
   "execution_count": null,
   "metadata": {},
   "outputs": [],
   "source": [
    "suffix='je'\n",
    "mask = df_processed.woord.apply(lambda w : suffix in w[-len(suffix):])\n",
    "ending_with_suffix = df_processed[mask]"
   ]
  },
  {
   "cell_type": "code",
   "execution_count": null,
   "metadata": {},
   "outputs": [],
   "source": [
    "ending_with_suffix.head()"
   ]
  },
  {
   "cell_type": "code",
   "execution_count": null,
   "metadata": {},
   "outputs": [],
   "source": [
    "ending_with_suffix.det.value_counts()"
   ]
  },
  {
   "cell_type": "code",
   "execution_count": null,
   "metadata": {},
   "outputs": [],
   "source": [
    "ending_with_suffix.query('det == \"de\"')"
   ]
  },
  {
   "cell_type": "code",
   "execution_count": null,
   "metadata": {},
   "outputs": [],
   "source": []
  }
 ],
 "metadata": {
  "kernelspec": {
   "display_name": "Python 3",
   "language": "python",
   "name": "python3"
  },
  "language_info": {
   "codemirror_mode": {
    "name": "ipython",
    "version": 3
   },
   "file_extension": ".py",
   "mimetype": "text/x-python",
   "name": "python",
   "nbconvert_exporter": "python",
   "pygments_lexer": "ipython3",
   "version": "3.7.4"
  }
 },
 "nbformat": 4,
 "nbformat_minor": 4
}
