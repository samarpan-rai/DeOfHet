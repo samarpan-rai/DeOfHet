{
 "cells": [
  {
   "cell_type": "code",
   "execution_count": 5,
   "metadata": {},
   "outputs": [],
   "source": [
    "import pandas as pd\n",
    "from pprint import pprint\n",
    "import numpy as np\n",
    "from sklearn.manifold import TSNE\n",
    "import matplotlib.pyplot as plt\n",
    "import plotly.express as px\n",
    "import re\n",
    "from spacy import displacy\n",
    "from spacy.symbols import NOUN, DET, ADJ\n"
   ]
  },
  {
   "cell_type": "code",
   "execution_count": 6,
   "metadata": {},
   "outputs": [],
   "source": [
    "df_processed = pd.read_pickle('./data/dumps/woorden_met_hetofde.pickle')"
   ]
  },
  {
   "cell_type": "code",
   "execution_count": 7,
   "metadata": {},
   "outputs": [
    {
     "data": {
      "text/plain": [
       "(23302, 3)"
      ]
     },
     "execution_count": 7,
     "metadata": {},
     "output_type": "execute_result"
    }
   ],
   "source": [
    "df_processed.shape"
   ]
  },
  {
   "cell_type": "code",
   "execution_count": 8,
   "metadata": {},
   "outputs": [
    {
     "data": {
      "text/html": [
       "<div>\n",
       "<style scoped>\n",
       "    .dataframe tbody tr th:only-of-type {\n",
       "        vertical-align: middle;\n",
       "    }\n",
       "\n",
       "    .dataframe tbody tr th {\n",
       "        vertical-align: top;\n",
       "    }\n",
       "\n",
       "    .dataframe thead th {\n",
       "        text-align: right;\n",
       "    }\n",
       "</style>\n",
       "<table border=\"1\" class=\"dataframe\">\n",
       "  <thead>\n",
       "    <tr style=\"text-align: right;\">\n",
       "      <th></th>\n",
       "      <th>det</th>\n",
       "      <th>woord</th>\n",
       "      <th>woord_vec</th>\n",
       "    </tr>\n",
       "  </thead>\n",
       "  <tbody>\n",
       "    <tr>\n",
       "      <td>0</td>\n",
       "      <td>de</td>\n",
       "      <td>gemeente</td>\n",
       "      <td>[1.0568, -0.94515, 0.99421, -0.68407, 2.9815, ...</td>\n",
       "    </tr>\n",
       "    <tr>\n",
       "      <td>1</td>\n",
       "      <td>de</td>\n",
       "      <td>provincie</td>\n",
       "      <td>[1.716, -1.4213, -0.50323, -2.4624, 1.5628, 0....</td>\n",
       "    </tr>\n",
       "    <tr>\n",
       "      <td>2</td>\n",
       "      <td>het</td>\n",
       "      <td>dorp</td>\n",
       "      <td>[1.9532, 0.047137, -0.70945, -2.8567, -0.33987...</td>\n",
       "    </tr>\n",
       "    <tr>\n",
       "      <td>4</td>\n",
       "      <td>de</td>\n",
       "      <td>eeuw</td>\n",
       "      <td>[5.555, -2.933, -2.232, -2.0864, 1.9924, 0.687...</td>\n",
       "    </tr>\n",
       "    <tr>\n",
       "      <td>7</td>\n",
       "      <td>het</td>\n",
       "      <td>moment</td>\n",
       "      <td>[1.7155, 1.0782, 1.4089, -2.5729, 0.50998, -1....</td>\n",
       "    </tr>\n",
       "  </tbody>\n",
       "</table>\n",
       "</div>"
      ],
      "text/plain": [
       "   det      woord                                          woord_vec\n",
       "0   de   gemeente  [1.0568, -0.94515, 0.99421, -0.68407, 2.9815, ...\n",
       "1   de  provincie  [1.716, -1.4213, -0.50323, -2.4624, 1.5628, 0....\n",
       "2  het       dorp  [1.9532, 0.047137, -0.70945, -2.8567, -0.33987...\n",
       "4   de       eeuw  [5.555, -2.933, -2.232, -2.0864, 1.9924, 0.687...\n",
       "7  het     moment  [1.7155, 1.0782, 1.4089, -2.5729, 0.50998, -1...."
      ]
     },
     "execution_count": 8,
     "metadata": {},
     "output_type": "execute_result"
    }
   ],
   "source": [
    "df_processed.head()"
   ]
  },
  {
   "cell_type": "code",
   "execution_count": 9,
   "metadata": {},
   "outputs": [],
   "source": [
    "tokens = df_processed.woord_vec.tolist()\n",
    "de_of_het_label = df_processed.det.tolist()\n",
    "annotation_label =    df_processed.woord.tolist()"
   ]
  },
  {
   "cell_type": "code",
   "execution_count": null,
   "metadata": {},
   "outputs": [],
   "source": [
    "tsne_model = TSNE(perplexity=50, n_jobs=3, n_components=2, n_iter=5000, random_state=23)\n",
    "new_values = tsne_model.fit_transform(tokens)"
   ]
  },
  {
   "cell_type": "code",
   "execution_count": null,
   "metadata": {},
   "outputs": [],
   "source": [
    "x = new_values[:,0]\n",
    "y = new_values[:,1]\n",
    "df_processed['2d_tsnse_x'] = x\n",
    "df_processed['2d_tsnse_y'] = y\n",
    "df_processed.head()"
   ]
  },
  {
   "cell_type": "code",
   "execution_count": null,
   "metadata": {},
   "outputs": [],
   "source": [
    "df_processed.to_pickle('./data/dumps/woorden_met_hetofde_tsne_2d_perplexity_50.pickle')"
   ]
  }
 ],
 "metadata": {
  "kernelspec": {
   "display_name": "Python 3.7.4 64-bit ('datascience': conda)",
   "language": "python",
   "name": "python37464bitdatasciencecondaa6d3a21c00574213ab53e74f2ef82285"
  },
  "language_info": {
   "codemirror_mode": {
    "name": "ipython",
    "version": 3
   },
   "file_extension": ".py",
   "mimetype": "text/x-python",
   "name": "python",
   "nbconvert_exporter": "python",
   "pygments_lexer": "ipython3",
   "version": "3.7.4"
  }
 },
 "nbformat": 4,
 "nbformat_minor": 4
}
