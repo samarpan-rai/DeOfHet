{
 "cells": [
  {
   "cell_type": "code",
   "execution_count": null,
   "metadata": {},
   "outputs": [],
   "source": [
    "import pandas as pd\n",
    "import datetime as dt\n",
    "from functools import wraps\n",
    "from sklearn.model_selection import cross_val_score\n",
    "from sklearn.tree import DecisionTreeClassifier\n",
    "from sklearn.model_selection import train_test_split\n",
    "from sklearn import tree\n",
    "import graphviz \n"
   ]
  },
  {
   "cell_type": "code",
   "execution_count": null,
   "metadata": {},
   "outputs": [],
   "source": [
    "df.head()"
   ]
  },
  {
   "cell_type": "code",
   "execution_count": null,
   "metadata": {},
   "outputs": [],
   "source": [
    "# Make sure that there are not repeated words\n",
    "assert len(set(df.woord)) == df.shape[0]"
   ]
  },
  {
   "cell_type": "markdown",
   "metadata": {},
   "source": [
    "Build feature based on hand crafted features\n",
    "\n",
    "### Base line features\n",
    "* How many characters does it have ?\n",
    "* Is there dash in the word?\n",
    "* Does it end with 'en' or 'jes' then it is plural\n",
    "\n",
    "### Additional features\n",
    "* Is the word singular or plural?\n",
    "* Is it a place, organization  or person ? \n",
    "* Is the word made of more than one word ?"
   ]
  },
  {
   "cell_type": "code",
   "execution_count": null,
   "metadata": {},
   "outputs": [],
   "source": [
    "\n",
    "def log_step(func):\n",
    "    @wraps(func)\n",
    "    def wrapper(*args, **kwargs):\n",
    "        tic = dt.datetime.now()\n",
    "        result = func(*args, **kwargs)\n",
    "        time_taken = str(dt.datetime.now() - tic)\n",
    "        print(f\"just ran step {func.__name__} shape={result.shape} took {time_taken}s\")\n",
    "        return result\n",
    "    return wrapper\n",
    "\n",
    "\n",
    "\n",
    "@log_step\n",
    "def start_pipeline(dataf):\n",
    "    return dataf.copy() \n",
    "\n",
    "@log_step\n",
    "def select_rows_by_column_values(dataf,column,values):\n",
    "    return (dataf[dataf[column].isin(values)])\n",
    "\n",
    "@log_step\n",
    "def select_columns(dataf, columns):\n",
    "    return (dataf[columns])\n",
    "\n",
    "@log_step\n",
    "def count_characters(dataf,column_name='woord'):\n",
    "    dataf['character_count'] = dataf[column_name].apply(lambda x : len(x))\n",
    "    return dataf\n",
    "\n",
    "@log_step\n",
    "def has_dash(dataf,column_name='woord'):\n",
    "    dataf['has_dash'] = dataf[column_name].apply(lambda x :'-' in x)\n",
    "    return dataf\n",
    "    \n",
    "\n",
    "@log_step\n",
    "def ends_with_en(dataf,column_name='woord'):\n",
    "    dataf['ends_with_en'] = dataf[column_name].apply(lambda x :'en' in x[-2:])\n",
    "    return dataf\n",
    "\n",
    "@log_step\n",
    "def ends_with_jes(dataf,column_name='woord'):\n",
    "    dataf['ends_with_jes'] = dataf[column_name].apply(lambda x :'jes' in x[-3:])\n",
    "    return dataf\n",
    "\n",
    "\n",
    "\n",
    "def generate_baseline_features(df):\n",
    "    return (\n",
    "            df.pipe(select_columns,columns=['woord','det']).\\\n",
    "                pipe(start_pipeline).\\\n",
    "                pipe(select_rows_by_column_values,column='det',values=['de','het']).\\\n",
    "                pipe(count_characters).\\\n",
    "                pipe(has_dash).\\\n",
    "                pipe(ends_with_en).\\\n",
    "                pipe(ends_with_jes)\n",
    "        )"
   ]
  },
  {
   "cell_type": "code",
   "execution_count": null,
   "metadata": {},
   "outputs": [],
   "source": [
    "df_baseline=generate_baseline_features(df)"
   ]
  },
  {
   "cell_type": "code",
   "execution_count": null,
   "metadata": {},
   "outputs": [],
   "source": [
    "df_baseline.det.value_counts()"
   ]
  },
  {
   "cell_type": "code",
   "execution_count": null,
   "metadata": {},
   "outputs": [],
   "source": [
    "17579-5697"
   ]
  },
  {
   "cell_type": "markdown",
   "metadata": {},
   "source": [
    "The data is highly skewed. Upsample the minority class"
   ]
  },
  {
   "cell_type": "code",
   "execution_count": null,
   "metadata": {},
   "outputs": [],
   "source": [
    "from sklearn.utils import resample\n",
    "# Separate majority and minority classes\n",
    "df_majority = df_baseline[df_baseline.det=='de']\n",
    "df_minority = df_baseline[df_baseline.det=='het']\n",
    " \n",
    "# Upsample minority class\n",
    "df_minority_upsampled = resample(df_minority, \n",
    "                                 replace=True,     # sample with replacement\n",
    "                                 n_samples=17579,    # to match majority class\n",
    "                                 random_state=123) # reproducible results\n",
    "\n",
    "# Combine majority class with upsampled minority class\n",
    "df_upsampled = pd.concat([df_majority, df_minority_upsampled])\n",
    " \n",
    "# Display new class counts\n",
    "df_upsampled.det.value_counts()"
   ]
  },
  {
   "cell_type": "code",
   "execution_count": null,
   "metadata": {},
   "outputs": [],
   "source": [
    "df_upsampled.head()"
   ]
  },
  {
   "cell_type": "markdown",
   "metadata": {},
   "source": [
    "## Train a simple decision tree"
   ]
  },
  {
   "cell_type": "code",
   "execution_count": null,
   "metadata": {},
   "outputs": [],
   "source": [
    "# Extract the name of features. This can be done by removing the column 'woord' and 'det'\n",
    "feature_names = list(set(df_upsampled.columns.to_list()) - set(['woord','det']))\n",
    "X = df_upsampled.pipe(select_columns,columns=feature_names)\n",
    "y = df_upsampled['det']"
   ]
  },
  {
   "cell_type": "code",
   "execution_count": null,
   "metadata": {},
   "outputs": [],
   "source": [
    "clf = DecisionTreeClassifier(random_state=0,max_depth=2,max_features='auto',max_leaf_nodes=2)"
   ]
  },
  {
   "cell_type": "code",
   "execution_count": null,
   "metadata": {},
   "outputs": [],
   "source": [
    "cross_val_score(clf, X, y, cv=20)"
   ]
  },
  {
   "cell_type": "code",
   "execution_count": null,
   "metadata": {},
   "outputs": [],
   "source": [
    "clf = clf.fit(X, y)"
   ]
  },
  {
   "cell_type": "code",
   "execution_count": null,
   "metadata": {},
   "outputs": [],
   "source": []
  },
  {
   "cell_type": "code",
   "execution_count": null,
   "metadata": {},
   "outputs": [],
   "source": [
    " dot_data = tree.export_graphviz(clf, out_file=None, \n",
    "    feature_names=feature_names,  \n",
    "    class_names=y.unique().tolist(),\n",
    "    filled=True, rounded=True,  \n",
    "    special_characters=True)  "
   ]
  },
  {
   "cell_type": "code",
   "execution_count": null,
   "metadata": {},
   "outputs": [],
   "source": [
    "graph = graphviz.Source(dot_data)  "
   ]
  },
  {
   "cell_type": "code",
   "execution_count": null,
   "metadata": {},
   "outputs": [],
   "source": [
    "graph"
   ]
  },
  {
   "cell_type": "code",
   "execution_count": null,
   "metadata": {},
   "outputs": [],
   "source": []
  }
 ],
 "metadata": {
  "kernelspec": {
   "display_name": "Python 3",
   "language": "python",
   "name": "python3"
  },
  "language_info": {
   "codemirror_mode": {
    "name": "ipython",
    "version": 3
   },
   "file_extension": ".py",
   "mimetype": "text/x-python",
   "name": "python",
   "nbconvert_exporter": "python",
   "pygments_lexer": "ipython3",
   "version": "3.7.4"
  }
 },
 "nbformat": 4,
 "nbformat_minor": 4
}
