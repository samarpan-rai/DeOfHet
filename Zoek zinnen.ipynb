{
 "cells": [
  {
   "cell_type": "code",
   "execution_count": null,
   "metadata": {},
   "outputs": [],
   "source": [
    "import spacy\n",
    "import pandas as pd\n",
    "from pprint import pprint\n",
    "import numpy as np\n",
    "from sklearn.manifold import TSNE\n",
    "import matplotlib.pyplot as plt\n",
    "import plotly.express as px\n",
    "import re\n",
    "import plotly.express as px\n",
    "from spacy import displacy\n",
    "from spacy.symbols import NOUN, DET, ADJ\n"
   ]
  },
  {
   "cell_type": "code",
   "execution_count": null,
   "metadata": {},
   "outputs": [],
   "source": [
    "df = pd.read_pickle(\"./data/processed/df_wiki_text.pickle\")"
   ]
  },
  {
   "cell_type": "code",
   "execution_count": null,
   "metadata": {},
   "outputs": [],
   "source": [
    "df.head()"
   ]
  },
  {
   "cell_type": "code",
   "execution_count": null,
   "metadata": {},
   "outputs": [],
   "source": [
    "nlp  = spacy.load('nl_core_news_lg') "
   ]
  },
  {
   "cell_type": "code",
   "execution_count": null,
   "metadata": {},
   "outputs": [],
   "source": [
    "\n",
    "def pre_process_text_generator(text_list):\n",
    "    \n",
    "    cleanr = re.compile('<.*?>')\n",
    "    for text in text_list:\n",
    "        if isinstance(text, str):\n",
    "            text = text.lower()                 # Converting to lowercase\n",
    "\n",
    "            text = re.sub(cleanr, ' ', text)                 # Removing HTML tags\n",
    "            text = re.sub(r'[?|!|\\'|\"|#]',r'',text)\n",
    "            text = re.sub(r'[.|,|)|(|\\|/]',r' ',text)        # Removing Punctuations\n",
    "\n",
    "            yield text"
   ]
  },
  {
   "cell_type": "code",
   "execution_count": null,
   "metadata": {},
   "outputs": [],
   "source": [
    "text_list_gen = pre_process_text_generator(df.text.tolist())"
   ]
  },
  {
   "cell_type": "code",
   "execution_count": null,
   "metadata": {},
   "outputs": [],
   "source": [
    "'tes' in (nlp(\"This is tes\").text)"
   ]
  },
  {
   "cell_type": "code",
   "execution_count": null,
   "metadata": {},
   "outputs": [],
   "source": [
    "interesting_sentences = []\n",
    "found = 0\n",
    "for doc in nlp.pipe(text_list_gen,n_process=3,batch_size=50):\n",
    "    if len(doc) < 150 and 'buurtschap' not in doc.text:\n",
    "        if found < 10:\n",
    "            for token in doc:\n",
    "                if token.pos == ADJ:\n",
    "                    interesting_sentences.append(doc.text)\n",
    "                    found += 1\n",
    "                    break\n",
    "        else:\n",
    "            break"
   ]
  },
  {
   "cell_type": "code",
   "execution_count": null,
   "metadata": {},
   "outputs": [],
   "source": [
    "interesting_sentences"
   ]
  },
  {
   "cell_type": "code",
   "execution_count": null,
   "metadata": {},
   "outputs": [],
   "source": []
  }
 ],
 "metadata": {
  "kernelspec": {
   "display_name": "Python 3.7.4 64-bit ('datascience': conda)",
   "language": "python",
   "name": "python37464bitdatasciencecondaa6d3a21c00574213ab53e74f2ef82285"
  },
  "language_info": {
   "codemirror_mode": {
    "name": "ipython",
    "version": 3
   },
   "file_extension": ".py",
   "mimetype": "text/x-python",
   "name": "python",
   "nbconvert_exporter": "python",
   "pygments_lexer": "ipython3",
   "version": "3.7.4"
  }
 },
 "nbformat": 4,
 "nbformat_minor": 4
}
