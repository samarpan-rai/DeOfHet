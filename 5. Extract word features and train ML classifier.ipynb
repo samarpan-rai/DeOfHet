{
 "cells": [
  {
   "cell_type": "code",
   "execution_count": 127,
   "metadata": {},
   "outputs": [],
   "source": [
    "import pandas as pd\n",
    "import datetime as dt\n",
    "from functools import wraps\n",
    "from sklearn.model_selection import cross_val_score\n",
    "from sklearn.tree import DecisionTreeClassifier\n",
    "from sklearn.model_selection import train_test_split\n",
    "from sklearn import tree\n",
    "import graphviz \n"
   ]
  },
  {
   "cell_type": "code",
   "execution_count": 37,
   "metadata": {},
   "outputs": [
    {
     "data": {
      "text/html": [
       "<div>\n",
       "<style scoped>\n",
       "    .dataframe tbody tr th:only-of-type {\n",
       "        vertical-align: middle;\n",
       "    }\n",
       "\n",
       "    .dataframe tbody tr th {\n",
       "        vertical-align: top;\n",
       "    }\n",
       "\n",
       "    .dataframe thead th {\n",
       "        text-align: right;\n",
       "    }\n",
       "</style>\n",
       "<table border=\"1\" class=\"dataframe\">\n",
       "  <thead>\n",
       "    <tr style=\"text-align: right;\">\n",
       "      <th></th>\n",
       "      <th>det</th>\n",
       "      <th>woord</th>\n",
       "      <th>woord_vec</th>\n",
       "      <th>2d_tsnse_x</th>\n",
       "      <th>2d_tsnse_y</th>\n",
       "      <th>3d_tsnse_x</th>\n",
       "      <th>3d_tsnse_y</th>\n",
       "      <th>3d_tsnse_z</th>\n",
       "    </tr>\n",
       "  </thead>\n",
       "  <tbody>\n",
       "    <tr>\n",
       "      <td>0</td>\n",
       "      <td>de</td>\n",
       "      <td>gemeente</td>\n",
       "      <td>[1.0568, -0.94515, 0.99421, -0.68407, 2.9815, ...</td>\n",
       "      <td>17.886803</td>\n",
       "      <td>-109.494179</td>\n",
       "      <td>8.696596</td>\n",
       "      <td>4.315295</td>\n",
       "      <td>-8.182873</td>\n",
       "    </tr>\n",
       "    <tr>\n",
       "      <td>1</td>\n",
       "      <td>de</td>\n",
       "      <td>provincie</td>\n",
       "      <td>[1.716, -1.4213, -0.50323, -2.4624, 1.5628, 0....</td>\n",
       "      <td>85.504738</td>\n",
       "      <td>-53.128902</td>\n",
       "      <td>-0.691837</td>\n",
       "      <td>12.283213</td>\n",
       "      <td>-2.905879</td>\n",
       "    </tr>\n",
       "    <tr>\n",
       "      <td>2</td>\n",
       "      <td>het</td>\n",
       "      <td>dorp</td>\n",
       "      <td>[1.9532, 0.047137, -0.70945, -2.8567, -0.33987...</td>\n",
       "      <td>82.390869</td>\n",
       "      <td>-41.150593</td>\n",
       "      <td>-5.146375</td>\n",
       "      <td>10.039696</td>\n",
       "      <td>-4.603694</td>\n",
       "    </tr>\n",
       "    <tr>\n",
       "      <td>4</td>\n",
       "      <td>de</td>\n",
       "      <td>eeuw</td>\n",
       "      <td>[5.555, -2.933, -2.232, -2.0864, 1.9924, 0.687...</td>\n",
       "      <td>-55.283062</td>\n",
       "      <td>-59.481743</td>\n",
       "      <td>1.511579</td>\n",
       "      <td>-3.374212</td>\n",
       "      <td>-0.988650</td>\n",
       "    </tr>\n",
       "    <tr>\n",
       "      <td>7</td>\n",
       "      <td>het</td>\n",
       "      <td>moment</td>\n",
       "      <td>[1.7155, 1.0782, 1.4089, -2.5729, 0.50998, -1....</td>\n",
       "      <td>-46.525166</td>\n",
       "      <td>-65.703644</td>\n",
       "      <td>2.505650</td>\n",
       "      <td>-2.254646</td>\n",
       "      <td>2.607251</td>\n",
       "    </tr>\n",
       "  </tbody>\n",
       "</table>\n",
       "</div>"
      ],
      "text/plain": [
       "   det      woord                                          woord_vec  \\\n",
       "0   de   gemeente  [1.0568, -0.94515, 0.99421, -0.68407, 2.9815, ...   \n",
       "1   de  provincie  [1.716, -1.4213, -0.50323, -2.4624, 1.5628, 0....   \n",
       "2  het       dorp  [1.9532, 0.047137, -0.70945, -2.8567, -0.33987...   \n",
       "4   de       eeuw  [5.555, -2.933, -2.232, -2.0864, 1.9924, 0.687...   \n",
       "7  het     moment  [1.7155, 1.0782, 1.4089, -2.5729, 0.50998, -1....   \n",
       "\n",
       "   2d_tsnse_x  2d_tsnse_y  3d_tsnse_x  3d_tsnse_y  3d_tsnse_z  \n",
       "0   17.886803 -109.494179    8.696596    4.315295   -8.182873  \n",
       "1   85.504738  -53.128902   -0.691837   12.283213   -2.905879  \n",
       "2   82.390869  -41.150593   -5.146375   10.039696   -4.603694  \n",
       "4  -55.283062  -59.481743    1.511579   -3.374212   -0.988650  \n",
       "7  -46.525166  -65.703644    2.505650   -2.254646    2.607251  "
      ]
     },
     "execution_count": 37,
     "metadata": {},
     "output_type": "execute_result"
    }
   ],
   "source": [
    "df.head()"
   ]
  },
  {
   "cell_type": "code",
   "execution_count": 38,
   "metadata": {},
   "outputs": [],
   "source": [
    "# Make sure that there are not repeated words\n",
    "assert len(set(df.woord)) == df.shape[0]"
   ]
  },
  {
   "cell_type": "markdown",
   "metadata": {},
   "source": [
    "Build feature based on hand crafted features\n",
    "\n",
    "### Base line features\n",
    "* How many characters does it have ?\n",
    "* Is there dash in the word?\n",
    "* Does it end with 'en' or 'jes' then it is plural\n",
    "\n",
    "### Additional features\n",
    "* Is the word singular or plural?\n",
    "* Is it a place, organization  or person ? \n",
    "* Is the word made of more than one word ?"
   ]
  },
  {
   "cell_type": "code",
   "execution_count": 123,
   "metadata": {},
   "outputs": [],
   "source": [
    "\n",
    "def log_step(func):\n",
    "    @wraps(func)\n",
    "    def wrapper(*args, **kwargs):\n",
    "        tic = dt.datetime.now()\n",
    "        result = func(*args, **kwargs)\n",
    "        time_taken = str(dt.datetime.now() - tic)\n",
    "        print(f\"just ran step {func.__name__} shape={result.shape} took {time_taken}s\")\n",
    "        return result\n",
    "    return wrapper\n",
    "\n",
    "\n",
    "\n",
    "@log_step\n",
    "def start_pipeline(dataf):\n",
    "    return dataf.copy() \n",
    "\n",
    "@log_step\n",
    "def select_rows_by_column_values(dataf,column,values):\n",
    "    return (dataf[dataf[column].isin(values)])\n",
    "\n",
    "@log_step\n",
    "def select_columns(dataf, columns):\n",
    "    return (dataf[columns])\n",
    "\n",
    "@log_step\n",
    "def count_characters(dataf,column_name='woord'):\n",
    "    dataf['character_count'] = dataf[column_name].apply(lambda x : len(x))\n",
    "    return dataf\n",
    "\n",
    "@log_step\n",
    "def has_dash(dataf,column_name='woord'):\n",
    "    dataf['has_dash'] = dataf[column_name].apply(lambda x :'-' in x)\n",
    "    return dataf\n",
    "    \n",
    "\n",
    "@log_step\n",
    "def ends_with_en(dataf,column_name='woord'):\n",
    "    dataf['ends_with_en'] = dataf[column_name].apply(lambda x :'en' in x[-2:])\n",
    "    return dataf\n",
    "\n",
    "@log_step\n",
    "def ends_with_jes(dataf,column_name='woord'):\n",
    "    dataf['ends_with_jes'] = dataf[column_name].apply(lambda x :'jes' in x[-3:])\n",
    "    return dataf\n",
    "\n",
    "\n",
    "\n",
    "def generate_baseline_features(df):\n",
    "    return (\n",
    "            df.pipe(select_columns,columns=['woord','det']).\\\n",
    "                pipe(start_pipeline).\\\n",
    "                pipe(select_rows_by_column_values,column='det',values=['de','het']).\\\n",
    "                pipe(count_characters).\\\n",
    "                pipe(has_dash).\\\n",
    "                pipe(ends_with_en).\\\n",
    "                pipe(ends_with_jes)\n",
    "        )"
   ]
  },
  {
   "cell_type": "code",
   "execution_count": 124,
   "metadata": {},
   "outputs": [
    {
     "name": "stdout",
     "output_type": "stream",
     "text": [
      "just ran step select_columns shape=(23302, 2) took 0:00:00.002730s\n",
      "just ran step start_pipeline shape=(23302, 2) took 0:00:00.001177s\n",
      "just ran step select_rows_by_column_values shape=(23276, 2) took 0:00:00.006444s\n",
      "just ran step count_characters shape=(23276, 3) took 0:00:00.016898s\n",
      "just ran step has_dash shape=(23276, 4) took 0:00:00.008712s\n",
      "just ran step ends_with_en shape=(23276, 5) took 0:00:00.008686s\n",
      "just ran step ends_with_jes shape=(23276, 6) took 0:00:00.007210s\n"
     ]
    }
   ],
   "source": [
    "df_baseline=generate_baseline_features(df)"
   ]
  },
  {
   "cell_type": "code",
   "execution_count": 160,
   "metadata": {},
   "outputs": [
    {
     "data": {
      "text/plain": [
       "de     17579\n",
       "het     5697\n",
       "Name: det, dtype: int64"
      ]
     },
     "execution_count": 160,
     "metadata": {},
     "output_type": "execute_result"
    }
   ],
   "source": [
    "df_baseline.det.value_counts()"
   ]
  },
  {
   "cell_type": "code",
   "execution_count": 167,
   "metadata": {},
   "outputs": [
    {
     "data": {
      "text/plain": [
       "11882"
      ]
     },
     "execution_count": 167,
     "metadata": {},
     "output_type": "execute_result"
    }
   ],
   "source": [
    "17579-5697"
   ]
  },
  {
   "cell_type": "markdown",
   "metadata": {},
   "source": [
    "The data is highly skewed. Upsample the minority class"
   ]
  },
  {
   "cell_type": "code",
   "execution_count": 179,
   "metadata": {},
   "outputs": [
    {
     "data": {
      "text/plain": [
       "het    17579\n",
       "de     17579\n",
       "Name: det, dtype: int64"
      ]
     },
     "execution_count": 179,
     "metadata": {},
     "output_type": "execute_result"
    }
   ],
   "source": [
    "from sklearn.utils import resample\n",
    "# Separate majority and minority classes\n",
    "df_majority = df_baseline[df_baseline.det=='de']\n",
    "df_minority = df_baseline[df_baseline.det=='het']\n",
    " \n",
    "# Upsample minority class\n",
    "df_minority_upsampled = resample(df_minority, \n",
    "                                 replace=True,     # sample with replacement\n",
    "                                 n_samples=17579,    # to match majority class\n",
    "                                 random_state=123) # reproducible results\n",
    "\n",
    "# Combine majority class with upsampled minority class\n",
    "df_upsampled = pd.concat([df_majority, df_minority_upsampled])\n",
    " \n",
    "# Display new class counts\n",
    "df_upsampled.det.value_counts()"
   ]
  },
  {
   "cell_type": "code",
   "execution_count": 180,
   "metadata": {},
   "outputs": [
    {
     "data": {
      "text/html": [
       "<div>\n",
       "<style scoped>\n",
       "    .dataframe tbody tr th:only-of-type {\n",
       "        vertical-align: middle;\n",
       "    }\n",
       "\n",
       "    .dataframe tbody tr th {\n",
       "        vertical-align: top;\n",
       "    }\n",
       "\n",
       "    .dataframe thead th {\n",
       "        text-align: right;\n",
       "    }\n",
       "</style>\n",
       "<table border=\"1\" class=\"dataframe\">\n",
       "  <thead>\n",
       "    <tr style=\"text-align: right;\">\n",
       "      <th></th>\n",
       "      <th>woord</th>\n",
       "      <th>det</th>\n",
       "      <th>character_count</th>\n",
       "      <th>has_dash</th>\n",
       "      <th>ends_with_en</th>\n",
       "      <th>ends_with_jes</th>\n",
       "    </tr>\n",
       "  </thead>\n",
       "  <tbody>\n",
       "    <tr>\n",
       "      <td>0</td>\n",
       "      <td>gemeente</td>\n",
       "      <td>de</td>\n",
       "      <td>8</td>\n",
       "      <td>False</td>\n",
       "      <td>False</td>\n",
       "      <td>False</td>\n",
       "    </tr>\n",
       "    <tr>\n",
       "      <td>1</td>\n",
       "      <td>provincie</td>\n",
       "      <td>de</td>\n",
       "      <td>9</td>\n",
       "      <td>False</td>\n",
       "      <td>False</td>\n",
       "      <td>False</td>\n",
       "    </tr>\n",
       "    <tr>\n",
       "      <td>4</td>\n",
       "      <td>eeuw</td>\n",
       "      <td>de</td>\n",
       "      <td>4</td>\n",
       "      <td>False</td>\n",
       "      <td>False</td>\n",
       "      <td>False</td>\n",
       "    </tr>\n",
       "    <tr>\n",
       "      <td>10</td>\n",
       "      <td>dorpen</td>\n",
       "      <td>de</td>\n",
       "      <td>6</td>\n",
       "      <td>False</td>\n",
       "      <td>True</td>\n",
       "      <td>False</td>\n",
       "    </tr>\n",
       "    <tr>\n",
       "      <td>11</td>\n",
       "      <td>naam</td>\n",
       "      <td>de</td>\n",
       "      <td>4</td>\n",
       "      <td>False</td>\n",
       "      <td>False</td>\n",
       "      <td>False</td>\n",
       "    </tr>\n",
       "  </tbody>\n",
       "</table>\n",
       "</div>"
      ],
      "text/plain": [
       "        woord det  character_count  has_dash  ends_with_en  ends_with_jes\n",
       "0    gemeente  de                8     False         False          False\n",
       "1   provincie  de                9     False         False          False\n",
       "4        eeuw  de                4     False         False          False\n",
       "10     dorpen  de                6     False          True          False\n",
       "11       naam  de                4     False         False          False"
      ]
     },
     "execution_count": 180,
     "metadata": {},
     "output_type": "execute_result"
    }
   ],
   "source": [
    "df_upsampled.head()"
   ]
  },
  {
   "cell_type": "markdown",
   "metadata": {},
   "source": [
    "## Train a simple decision tree"
   ]
  },
  {
   "cell_type": "code",
   "execution_count": 181,
   "metadata": {},
   "outputs": [
    {
     "name": "stdout",
     "output_type": "stream",
     "text": [
      "just ran step select_columns shape=(35158, 4) took 0:00:00.002778s\n"
     ]
    }
   ],
   "source": [
    "# Extract the name of features. This can be done by removing the column 'woord' and 'det'\n",
    "feature_names = list(set(df_upsampled.columns.to_list()) - set(['woord','det']))\n",
    "X = df_upsampled.pipe(select_columns,columns=feature_names)\n",
    "y = df_upsampled['det']"
   ]
  },
  {
   "cell_type": "code",
   "execution_count": 214,
   "metadata": {},
   "outputs": [],
   "source": [
    "clf = DecisionTreeClassifier(random_state=0,max_depth=2,max_features='auto',max_leaf_nodes=2)"
   ]
  },
  {
   "cell_type": "code",
   "execution_count": 215,
   "metadata": {},
   "outputs": [
    {
     "data": {
      "text/plain": [
       "array([0.50568828, 0.5       , 0.50170648, 0.50341297, 0.50227531,\n",
       "       0.50227531, 0.50511945, 0.50056883, 0.50227531, 0.50568828,\n",
       "       0.50511945, 0.50341297, 0.50170648, 0.50511945, 0.50341297,\n",
       "       0.50511945, 0.50455063, 0.50796359, 0.5071144 , 0.50540694])"
      ]
     },
     "execution_count": 215,
     "metadata": {},
     "output_type": "execute_result"
    }
   ],
   "source": [
    "cross_val_score(clf, X, y, cv=20)"
   ]
  },
  {
   "cell_type": "code",
   "execution_count": 216,
   "metadata": {},
   "outputs": [],
   "source": [
    "clf = clf.fit(X, y)"
   ]
  },
  {
   "cell_type": "code",
   "execution_count": null,
   "metadata": {},
   "outputs": [],
   "source": []
  },
  {
   "cell_type": "code",
   "execution_count": 217,
   "metadata": {},
   "outputs": [],
   "source": [
    " dot_data = tree.export_graphviz(clf, out_file=None, \n",
    "    feature_names=feature_names,  \n",
    "    class_names=y.unique().tolist(),\n",
    "    filled=True, rounded=True,  \n",
    "    special_characters=True)  "
   ]
  },
  {
   "cell_type": "code",
   "execution_count": 218,
   "metadata": {},
   "outputs": [],
   "source": [
    "graph = graphviz.Source(dot_data)  "
   ]
  },
  {
   "cell_type": "code",
   "execution_count": 219,
   "metadata": {},
   "outputs": [
    {
     "data": {
      "image/svg+xml": [
       "<?xml version=\"1.0\" encoding=\"UTF-8\" standalone=\"no\"?>\n",
       "<!DOCTYPE svg PUBLIC \"-//W3C//DTD SVG 1.1//EN\"\n",
       " \"http://www.w3.org/Graphics/SVG/1.1/DTD/svg11.dtd\">\n",
       "<!-- Generated by graphviz version 2.38.0 (20140413.2041)\n",
       " -->\n",
       "<!-- Title: Tree Pages: 1 -->\n",
       "<svg width=\"298pt\" height=\"195pt\"\n",
       " viewBox=\"0.00 0.00 298.00 195.00\" xmlns=\"http://www.w3.org/2000/svg\" xmlns:xlink=\"http://www.w3.org/1999/xlink\">\n",
       "<g id=\"graph0\" class=\"graph\" transform=\"scale(1 1) rotate(0) translate(4 191)\">\n",
       "<title>Tree</title>\n",
       "<polygon fill=\"white\" stroke=\"none\" points=\"-4,4 -4,-191 294,-191 294,4 -4,4\"/>\n",
       "<!-- 0 -->\n",
       "<g id=\"node1\" class=\"node\"><title>0</title>\n",
       "<path fill=\"#ffffff\" stroke=\"black\" d=\"M220,-187C220,-187 89,-187 89,-187 83,-187 77,-181 77,-175 77,-175 77,-116 77,-116 77,-110 83,-104 89,-104 89,-104 220,-104 220,-104 226,-104 232,-110 232,-116 232,-116 232,-175 232,-175 232,-181 226,-187 220,-187\"/>\n",
       "<text text-anchor=\"start\" x=\"94\" y=\"-171.8\" font-family=\"Helvetica,sans-Serif\" font-size=\"14.00\">ends_with_jes ≤ 0.5</text>\n",
       "<text text-anchor=\"start\" x=\"126.5\" y=\"-156.8\" font-family=\"Helvetica,sans-Serif\" font-size=\"14.00\">gini = 0.5</text>\n",
       "<text text-anchor=\"start\" x=\"102\" y=\"-141.8\" font-family=\"Helvetica,sans-Serif\" font-size=\"14.00\">samples = 35158</text>\n",
       "<text text-anchor=\"start\" x=\"85\" y=\"-126.8\" font-family=\"Helvetica,sans-Serif\" font-size=\"14.00\">value = [17579, 17579]</text>\n",
       "<text text-anchor=\"start\" x=\"123.5\" y=\"-111.8\" font-family=\"Helvetica,sans-Serif\" font-size=\"14.00\">class = de</text>\n",
       "</g>\n",
       "<!-- 1 -->\n",
       "<g id=\"node2\" class=\"node\"><title>1</title>\n",
       "<path fill=\"#fdfeff\" stroke=\"black\" d=\"M143,-68C143,-68 12,-68 12,-68 6,-68 0,-62 0,-56 0,-56 0,-12 0,-12 0,-6 6,-0 12,-0 12,-0 143,-0 143,-0 149,-0 155,-6 155,-12 155,-12 155,-56 155,-56 155,-62 149,-68 143,-68\"/>\n",
       "<text text-anchor=\"start\" x=\"49.5\" y=\"-52.8\" font-family=\"Helvetica,sans-Serif\" font-size=\"14.00\">gini = 0.5</text>\n",
       "<text text-anchor=\"start\" x=\"25\" y=\"-37.8\" font-family=\"Helvetica,sans-Serif\" font-size=\"14.00\">samples = 34995</text>\n",
       "<text text-anchor=\"start\" x=\"8\" y=\"-22.8\" font-family=\"Helvetica,sans-Serif\" font-size=\"14.00\">value = [17429, 17566]</text>\n",
       "<text text-anchor=\"start\" x=\"44.5\" y=\"-7.8\" font-family=\"Helvetica,sans-Serif\" font-size=\"14.00\">class = het</text>\n",
       "</g>\n",
       "<!-- 0&#45;&gt;1 -->\n",
       "<g id=\"edge1\" class=\"edge\"><title>0&#45;&gt;1</title>\n",
       "<path fill=\"none\" stroke=\"black\" d=\"M125.828,-103.726C119.607,-94.879 113.018,-85.51 106.774,-76.6303\"/>\n",
       "<polygon fill=\"black\" stroke=\"black\" points=\"109.531,-74.4664 100.916,-68.2996 103.805,-78.4929 109.531,-74.4664\"/>\n",
       "<text text-anchor=\"middle\" x=\"96.6243\" y=\"-89.2284\" font-family=\"Helvetica,sans-Serif\" font-size=\"14.00\">True</text>\n",
       "</g>\n",
       "<!-- 2 -->\n",
       "<g id=\"node3\" class=\"node\"><title>2</title>\n",
       "<path fill=\"#e78c4a\" stroke=\"black\" d=\"M278,-68C278,-68 185,-68 185,-68 179,-68 173,-62 173,-56 173,-56 173,-12 173,-12 173,-6 179,-0 185,-0 185,-0 278,-0 278,-0 284,-0 290,-6 290,-12 290,-12 290,-56 290,-56 290,-62 284,-68 278,-68\"/>\n",
       "<text text-anchor=\"start\" x=\"196\" y=\"-52.8\" font-family=\"Helvetica,sans-Serif\" font-size=\"14.00\">gini = 0.147</text>\n",
       "<text text-anchor=\"start\" x=\"186.5\" y=\"-37.8\" font-family=\"Helvetica,sans-Serif\" font-size=\"14.00\">samples = 163</text>\n",
       "<text text-anchor=\"start\" x=\"181\" y=\"-22.8\" font-family=\"Helvetica,sans-Serif\" font-size=\"14.00\">value = [150, 13]</text>\n",
       "<text text-anchor=\"start\" x=\"200.5\" y=\"-7.8\" font-family=\"Helvetica,sans-Serif\" font-size=\"14.00\">class = de</text>\n",
       "</g>\n",
       "<!-- 0&#45;&gt;2 -->\n",
       "<g id=\"edge2\" class=\"edge\"><title>0&#45;&gt;2</title>\n",
       "<path fill=\"none\" stroke=\"black\" d=\"M183.172,-103.726C189.393,-94.879 195.982,-85.51 202.226,-76.6303\"/>\n",
       "<polygon fill=\"black\" stroke=\"black\" points=\"205.195,-78.4929 208.084,-68.2996 199.469,-74.4664 205.195,-78.4929\"/>\n",
       "<text text-anchor=\"middle\" x=\"212.376\" y=\"-89.2284\" font-family=\"Helvetica,sans-Serif\" font-size=\"14.00\">False</text>\n",
       "</g>\n",
       "</g>\n",
       "</svg>\n"
      ],
      "text/plain": [
       "<graphviz.files.Source at 0x7f3dece55690>"
      ]
     },
     "execution_count": 219,
     "metadata": {},
     "output_type": "execute_result"
    }
   ],
   "source": [
    "graph"
   ]
  },
  {
   "cell_type": "code",
   "execution_count": null,
   "metadata": {},
   "outputs": [],
   "source": []
  }
 ],
 "metadata": {
  "kernelspec": {
   "display_name": "Python 3",
   "language": "python",
   "name": "python3"
  },
  "language_info": {
   "codemirror_mode": {
    "name": "ipython",
    "version": 3
   },
   "file_extension": ".py",
   "mimetype": "text/x-python",
   "name": "python",
   "nbconvert_exporter": "python",
   "pygments_lexer": "ipython3",
   "version": "3.7.4"
  }
 },
 "nbformat": 4,
 "nbformat_minor": 4
}
